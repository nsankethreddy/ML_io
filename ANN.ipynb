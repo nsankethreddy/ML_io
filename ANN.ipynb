{
 "cells": [
  {
   "cell_type": "code",
   "execution_count": 1,
   "metadata": {},
   "outputs": [],
   "source": [
    "\n",
    "import numpy as np\n",
    "import pandas as pd"
   ]
  },
  {
   "cell_type": "code",
   "execution_count": 3,
   "metadata": {},
   "outputs": [],
   "source": [
    "from subprocess import check_output\n"
   ]
  },
  {
   "cell_type": "code",
   "execution_count": 4,
   "metadata": {},
   "outputs": [],
   "source": [
    "import matplotlib.pyplot as plt\n",
    "%matplotlib inline \n",
    "import seaborn as sns"
   ]
  },
  {
   "cell_type": "code",
   "execution_count": 5,
   "metadata": {},
   "outputs": [],
   "source": [
    "df = pd.read_csv('modified.csv')"
   ]
  },
  {
   "cell_type": "code",
   "execution_count": 6,
   "metadata": {},
   "outputs": [
    {
     "data": {
      "text/html": [
       "<div>\n",
       "<style scoped>\n",
       "    .dataframe tbody tr th:only-of-type {\n",
       "        vertical-align: middle;\n",
       "    }\n",
       "\n",
       "    .dataframe tbody tr th {\n",
       "        vertical-align: top;\n",
       "    }\n",
       "\n",
       "    .dataframe thead th {\n",
       "        text-align: right;\n",
       "    }\n",
       "</style>\n",
       "<table border=\"1\" class=\"dataframe\">\n",
       "  <thead>\n",
       "    <tr style=\"text-align: right;\">\n",
       "      <th></th>\n",
       "      <th>Location</th>\n",
       "      <th>MinTemp</th>\n",
       "      <th>MaxTemp</th>\n",
       "      <th>Rainfall</th>\n",
       "      <th>Evaporation</th>\n",
       "      <th>Sunshine</th>\n",
       "      <th>WindGustDir</th>\n",
       "      <th>WindGustSpeed</th>\n",
       "      <th>WindDir9am</th>\n",
       "      <th>WindDir3pm</th>\n",
       "      <th>...</th>\n",
       "      <th>Humidity9am</th>\n",
       "      <th>Humidity3pm</th>\n",
       "      <th>Pressure9am</th>\n",
       "      <th>Pressure3pm</th>\n",
       "      <th>Cloud9am</th>\n",
       "      <th>Cloud3pm</th>\n",
       "      <th>Temp9am</th>\n",
       "      <th>Temp3pm</th>\n",
       "      <th>RainToday</th>\n",
       "      <th>RainTomorrow</th>\n",
       "    </tr>\n",
       "  </thead>\n",
       "  <tbody>\n",
       "    <tr>\n",
       "      <th>0</th>\n",
       "      <td>Albury</td>\n",
       "      <td>13.4</td>\n",
       "      <td>22.9</td>\n",
       "      <td>0.6</td>\n",
       "      <td>NaN</td>\n",
       "      <td>NaN</td>\n",
       "      <td>W</td>\n",
       "      <td>44.0</td>\n",
       "      <td>W</td>\n",
       "      <td>WNW</td>\n",
       "      <td>...</td>\n",
       "      <td>71.0</td>\n",
       "      <td>22.0</td>\n",
       "      <td>1007.7</td>\n",
       "      <td>1007.1</td>\n",
       "      <td>8.0</td>\n",
       "      <td>NaN</td>\n",
       "      <td>16.9</td>\n",
       "      <td>21.8</td>\n",
       "      <td>No</td>\n",
       "      <td>No</td>\n",
       "    </tr>\n",
       "    <tr>\n",
       "      <th>1</th>\n",
       "      <td>Albury</td>\n",
       "      <td>7.4</td>\n",
       "      <td>25.1</td>\n",
       "      <td>0.0</td>\n",
       "      <td>NaN</td>\n",
       "      <td>NaN</td>\n",
       "      <td>WNW</td>\n",
       "      <td>44.0</td>\n",
       "      <td>NNW</td>\n",
       "      <td>WSW</td>\n",
       "      <td>...</td>\n",
       "      <td>44.0</td>\n",
       "      <td>25.0</td>\n",
       "      <td>1010.6</td>\n",
       "      <td>1007.8</td>\n",
       "      <td>NaN</td>\n",
       "      <td>NaN</td>\n",
       "      <td>17.2</td>\n",
       "      <td>24.3</td>\n",
       "      <td>No</td>\n",
       "      <td>No</td>\n",
       "    </tr>\n",
       "    <tr>\n",
       "      <th>2</th>\n",
       "      <td>Albury</td>\n",
       "      <td>12.9</td>\n",
       "      <td>25.7</td>\n",
       "      <td>0.0</td>\n",
       "      <td>NaN</td>\n",
       "      <td>NaN</td>\n",
       "      <td>WSW</td>\n",
       "      <td>46.0</td>\n",
       "      <td>W</td>\n",
       "      <td>WSW</td>\n",
       "      <td>...</td>\n",
       "      <td>38.0</td>\n",
       "      <td>30.0</td>\n",
       "      <td>1007.6</td>\n",
       "      <td>1008.7</td>\n",
       "      <td>NaN</td>\n",
       "      <td>2.0</td>\n",
       "      <td>21.0</td>\n",
       "      <td>23.2</td>\n",
       "      <td>No</td>\n",
       "      <td>No</td>\n",
       "    </tr>\n",
       "    <tr>\n",
       "      <th>3</th>\n",
       "      <td>Albury</td>\n",
       "      <td>9.2</td>\n",
       "      <td>28.0</td>\n",
       "      <td>0.0</td>\n",
       "      <td>NaN</td>\n",
       "      <td>NaN</td>\n",
       "      <td>NE</td>\n",
       "      <td>24.0</td>\n",
       "      <td>SE</td>\n",
       "      <td>E</td>\n",
       "      <td>...</td>\n",
       "      <td>45.0</td>\n",
       "      <td>16.0</td>\n",
       "      <td>1017.6</td>\n",
       "      <td>1012.8</td>\n",
       "      <td>NaN</td>\n",
       "      <td>NaN</td>\n",
       "      <td>18.1</td>\n",
       "      <td>26.5</td>\n",
       "      <td>No</td>\n",
       "      <td>No</td>\n",
       "    </tr>\n",
       "    <tr>\n",
       "      <th>4</th>\n",
       "      <td>Albury</td>\n",
       "      <td>17.5</td>\n",
       "      <td>32.3</td>\n",
       "      <td>1.0</td>\n",
       "      <td>NaN</td>\n",
       "      <td>NaN</td>\n",
       "      <td>W</td>\n",
       "      <td>41.0</td>\n",
       "      <td>ENE</td>\n",
       "      <td>NW</td>\n",
       "      <td>...</td>\n",
       "      <td>82.0</td>\n",
       "      <td>33.0</td>\n",
       "      <td>1010.8</td>\n",
       "      <td>1006.0</td>\n",
       "      <td>7.0</td>\n",
       "      <td>8.0</td>\n",
       "      <td>17.8</td>\n",
       "      <td>29.7</td>\n",
       "      <td>No</td>\n",
       "      <td>No</td>\n",
       "    </tr>\n",
       "  </tbody>\n",
       "</table>\n",
       "<p>5 rows × 22 columns</p>\n",
       "</div>"
      ],
      "text/plain": [
       "  Location  MinTemp  MaxTemp  Rainfall  Evaporation  Sunshine WindGustDir  \\\n",
       "0   Albury     13.4     22.9       0.6          NaN       NaN           W   \n",
       "1   Albury      7.4     25.1       0.0          NaN       NaN         WNW   \n",
       "2   Albury     12.9     25.7       0.0          NaN       NaN         WSW   \n",
       "3   Albury      9.2     28.0       0.0          NaN       NaN          NE   \n",
       "4   Albury     17.5     32.3       1.0          NaN       NaN           W   \n",
       "\n",
       "   WindGustSpeed WindDir9am WindDir3pm      ...       Humidity9am  \\\n",
       "0           44.0          W        WNW      ...              71.0   \n",
       "1           44.0        NNW        WSW      ...              44.0   \n",
       "2           46.0          W        WSW      ...              38.0   \n",
       "3           24.0         SE          E      ...              45.0   \n",
       "4           41.0        ENE         NW      ...              82.0   \n",
       "\n",
       "   Humidity3pm  Pressure9am  Pressure3pm  Cloud9am  Cloud3pm  Temp9am  \\\n",
       "0         22.0       1007.7       1007.1       8.0       NaN     16.9   \n",
       "1         25.0       1010.6       1007.8       NaN       NaN     17.2   \n",
       "2         30.0       1007.6       1008.7       NaN       2.0     21.0   \n",
       "3         16.0       1017.6       1012.8       NaN       NaN     18.1   \n",
       "4         33.0       1010.8       1006.0       7.0       8.0     17.8   \n",
       "\n",
       "   Temp3pm  RainToday  RainTomorrow  \n",
       "0     21.8         No            No  \n",
       "1     24.3         No            No  \n",
       "2     23.2         No            No  \n",
       "3     26.5         No            No  \n",
       "4     29.7         No            No  \n",
       "\n",
       "[5 rows x 22 columns]"
      ]
     },
     "execution_count": 6,
     "metadata": {},
     "output_type": "execute_result"
    }
   ],
   "source": [
    "df.head()"
   ]
  },
  {
   "cell_type": "code",
   "execution_count": 8,
   "metadata": {},
   "outputs": [],
   "source": [
    "df.dropna(inplace=True)"
   ]
  },
  {
   "cell_type": "code",
   "execution_count": 9,
   "metadata": {},
   "outputs": [
    {
     "name": "stdout",
     "output_type": "stream",
     "text": [
      "       Location  MinTemp  MaxTemp  Rainfall  Evaporation  Sunshine  \\\n",
      "5939      Cobar     17.9     35.2       0.0         12.0      12.3   \n",
      "5940      Cobar     18.4     28.9       0.0         14.8      13.0   \n",
      "5942      Cobar     19.4     37.6       0.0         10.8      10.6   \n",
      "5943      Cobar     21.9     38.4       0.0         11.4      12.2   \n",
      "5944      Cobar     24.2     41.0       0.0         11.2       8.4   \n",
      "5945      Cobar     27.1     36.1       0.0         13.0       0.0   \n",
      "5946      Cobar     23.3     34.0       0.0          9.8      12.6   \n",
      "5947      Cobar     16.1     34.2       0.0         14.6      13.2   \n",
      "5948      Cobar     19.0     35.5       0.0         12.0      12.3   \n",
      "5949      Cobar     19.7     35.5       0.0         11.0      12.7   \n",
      "5950      Cobar     20.9     37.8       0.0         12.8      13.2   \n",
      "5951      Cobar     23.9     39.1       0.0         13.8      12.1   \n",
      "5952      Cobar     24.9     41.2       0.0         14.8      13.0   \n",
      "5953      Cobar     25.2     40.5       0.0         16.4      10.3   \n",
      "5954      Cobar     21.6     34.2       0.0         17.4      13.1   \n",
      "5955      Cobar     18.4     31.8       0.0         16.0      12.9   \n",
      "5956      Cobar     17.9     34.2       0.0         12.0      11.3   \n",
      "5957      Cobar     21.4     37.5       0.0         14.8       6.9   \n",
      "5958      Cobar     23.3     39.4       4.8         12.0      10.9   \n",
      "5959      Cobar     25.4     33.5       0.0         13.6       3.7   \n",
      "5960      Cobar     21.8     30.7       0.0          8.0       5.9   \n",
      "5961      Cobar     20.3     36.0      18.0          8.2      10.5   \n",
      "5962      Cobar     22.1     34.7       8.6          8.6      12.4   \n",
      "5963      Cobar     19.7     37.3       0.0         14.2      13.4   \n",
      "5964      Cobar     23.8     39.9       0.0         12.6      13.2   \n",
      "5965      Cobar     27.0     38.7       0.0         14.2      13.0   \n",
      "5966      Cobar     26.2     38.5       0.0         14.6      13.3   \n",
      "5967      Cobar     25.0     39.5       0.0         14.6      13.6   \n",
      "5968      Cobar     25.1     39.3       0.0         15.8      13.2   \n",
      "5969      Cobar     25.2     38.5       0.0         16.2      13.1   \n",
      "...         ...      ...      ...       ...          ...       ...   \n",
      "139083   Darwin     24.3     31.9       0.0          6.4      10.9   \n",
      "139084   Darwin     23.5     33.3       0.0          5.4      10.8   \n",
      "139085   Darwin     22.4     32.2       0.0          8.0       6.3   \n",
      "139086   Darwin     24.1     32.6       0.0          6.8      10.4   \n",
      "139087   Darwin     22.5     32.3       0.0          6.6      10.6   \n",
      "139088   Darwin     20.4     31.4       0.2          9.6       9.6   \n",
      "139089   Darwin     21.9     31.6       0.0         10.0       9.9   \n",
      "139090   Darwin     21.6     32.0       0.0          9.6      10.7   \n",
      "139091   Darwin     22.7     31.6       0.0          7.0       7.4   \n",
      "139092   Darwin     22.4     31.4       0.0          6.6       8.3   \n",
      "139093   Darwin     23.3     32.4       0.0          5.4       8.9   \n",
      "139094   Darwin     20.6     31.8       0.0          6.4      10.8   \n",
      "139095   Darwin     20.0     30.4       0.0          9.0      10.8   \n",
      "139096   Darwin     19.2     29.4       0.0          7.4      10.9   \n",
      "139097   Darwin     20.6     29.4       0.0         10.6       5.4   \n",
      "139098   Darwin     18.7     29.4       0.0          7.8       8.7   \n",
      "139099   Darwin     19.0     29.4       0.0          7.6      10.4   \n",
      "139100   Darwin     17.2     29.1       0.0          7.2      10.1   \n",
      "139101   Darwin     18.3     29.8       0.0          8.4      10.5   \n",
      "139102   Darwin     16.9     30.3       0.0          5.4      10.9   \n",
      "139103   Darwin     19.0     30.9       0.0          5.0      10.8   \n",
      "139104   Darwin     18.9     31.1       0.0          6.0      10.6   \n",
      "139105   Darwin     20.2     32.1       0.0          4.8       9.9   \n",
      "139106   Darwin     20.0     33.1       0.0          4.6      10.9   \n",
      "139107   Darwin     21.9     33.0       0.0          5.2      10.9   \n",
      "139108   Darwin     19.3     33.4       0.0          6.0      11.0   \n",
      "139109   Darwin     21.2     32.6       0.0          7.6       8.6   \n",
      "139110   Darwin     20.7     32.8       0.0          5.6      11.0   \n",
      "139111   Darwin     19.5     31.8       0.0          6.2      10.6   \n",
      "139112   Darwin     20.2     31.7       0.0          5.6      10.7   \n",
      "\n",
      "       WindGustDir  WindGustSpeed WindDir9am WindDir3pm      ...       \\\n",
      "5939           SSW           48.0        ENE         SW      ...        \n",
      "5940             S           37.0        SSE        SSE      ...        \n",
      "5942           NNE           46.0        NNE        NNW      ...        \n",
      "5943           WNW           31.0        WNW        WSW      ...        \n",
      "5944           WNW           35.0         NW        WNW      ...        \n",
      "5945             N           43.0          N        WNW      ...        \n",
      "5946           SSW           41.0          S        SSE      ...        \n",
      "5947            SE           37.0         SE          S      ...        \n",
      "5948           ENE           48.0        ENE        WSW      ...        \n",
      "5949            NE           41.0        NNE        WSW      ...        \n",
      "5950             E           30.0         SE        ENE      ...        \n",
      "5951           ENE           39.0         NE          N      ...        \n",
      "5952           SSW           43.0          N        NNW      ...        \n",
      "5953            SW           44.0          W         SW      ...        \n",
      "5954            SW           44.0          S          S      ...        \n",
      "5955             S           33.0          S         SW      ...        \n",
      "5956            SE           61.0         NE         SE      ...        \n",
      "5957           NNE           43.0        ENE        NNE      ...        \n",
      "5958             W           59.0          N         NW      ...        \n",
      "5959             N           46.0         NW          N      ...        \n",
      "5960           WNW           56.0          N          N      ...        \n",
      "5961           WSW           94.0        NNE         NW      ...        \n",
      "5962           NNW           50.0        SSW         SW      ...        \n",
      "5963           SSW           28.0         SE        ENE      ...        \n",
      "5964             S           31.0        ENE          E      ...        \n",
      "5965           ENE           46.0        ENE        ESE      ...        \n",
      "5966             E           39.0        NNE        ENE      ...        \n",
      "5967           ENE           52.0        NNE        NNE      ...        \n",
      "5968           ESE           44.0        NNE        ESE      ...        \n",
      "5969           ENE           44.0        NNE         NE      ...        \n",
      "...            ...            ...        ...        ...      ...        \n",
      "139083         ESE           50.0        ESE          E      ...        \n",
      "139084           E           43.0          E          E      ...        \n",
      "139085           E           39.0        ESE        ENE      ...        \n",
      "139086           E           52.0          E         NE      ...        \n",
      "139087          SE           48.0        ESE          E      ...        \n",
      "139088         ESE           52.0         SE         SE      ...        \n",
      "139089         ESE           43.0         SE         SE      ...        \n",
      "139090         ESE           43.0         SE          E      ...        \n",
      "139091         ESE           43.0         SE        ESE      ...        \n",
      "139092           E           43.0        ESE          E      ...        \n",
      "139093           E           43.0          E          E      ...        \n",
      "139094           E           46.0         SE        ESE      ...        \n",
      "139095         ESE           43.0         SE        ENE      ...        \n",
      "139096           E           54.0        ESE          E      ...        \n",
      "139097           E           46.0         SE        ESE      ...        \n",
      "139098         ESE           48.0         SE          E      ...        \n",
      "139099           E           46.0        ESE         SE      ...        \n",
      "139100         ESE           44.0        ESE          E      ...        \n",
      "139101         ESE           41.0        ESE          E      ...        \n",
      "139102           E           33.0        ESE         NW      ...        \n",
      "139103           E           41.0          E        ESE      ...        \n",
      "139104         ESE           31.0         SE        ESE      ...        \n",
      "139105           E           31.0         SE         SE      ...        \n",
      "139106           E           43.0        SSE        ENE      ...        \n",
      "139107           E           44.0         SE        ENE      ...        \n",
      "139108         ENE           35.0         SE         NE      ...        \n",
      "139109           E           37.0         SE         SE      ...        \n",
      "139110           E           33.0          E          W      ...        \n",
      "139111         ESE           26.0         SE        NNW      ...        \n",
      "139112         ENE           30.0        ENE        NNW      ...        \n",
      "\n",
      "        Humidity9am  Humidity3pm  Pressure9am  Pressure3pm  Cloud9am  \\\n",
      "5939           20.0         13.0       1006.3       1004.4       2.0   \n",
      "5940           30.0          8.0       1012.9       1012.1       1.0   \n",
      "5942           42.0         22.0       1012.3       1009.2       1.0   \n",
      "5943           37.0         22.0       1012.7       1009.1       1.0   \n",
      "5944           19.0         15.0       1010.7       1007.4       1.0   \n",
      "5945           26.0         19.0       1007.7       1007.4       8.0   \n",
      "5946           33.0         15.0       1011.3       1009.9       3.0   \n",
      "5947           25.0          9.0       1013.3       1009.2       1.0   \n",
      "5948           46.0         28.0       1008.3       1004.0       1.0   \n",
      "5949           61.0         14.0       1007.9       1005.8       1.0   \n",
      "5950           27.0          9.0       1012.6       1010.1       0.0   \n",
      "5951           40.0         15.0       1013.6       1010.4       0.0   \n",
      "5952           25.0         15.0       1012.9       1010.1       1.0   \n",
      "5953           24.0         15.0       1012.4       1009.0       4.0   \n",
      "5954           19.0          8.0       1014.1       1012.3       0.0   \n",
      "5955           25.0          5.0       1016.3       1013.8       0.0   \n",
      "5956           46.0         19.0       1016.4       1013.5       1.0   \n",
      "5957           34.0         29.0       1013.1       1009.6       7.0   \n",
      "5958           54.0         14.0       1011.1       1008.5       1.0   \n",
      "5959           46.0         52.0       1012.0       1009.8       4.0   \n",
      "5960           71.0         63.0       1008.6       1006.2       7.0   \n",
      "5961           89.0         50.0       1008.6       1006.7       7.0   \n",
      "5962           46.0         23.0       1008.6       1008.3       2.0   \n",
      "5963           19.0         10.0       1013.1       1011.8       1.0   \n",
      "5964           50.0         16.0       1014.6       1012.1       0.0   \n",
      "5965           45.0         22.0       1015.2       1012.6       1.0   \n",
      "5966           37.0         17.0       1014.4       1011.5       0.0   \n",
      "5967           31.0         14.0       1014.6       1011.2       0.0   \n",
      "5968           34.0         18.0       1013.8       1010.5       0.0   \n",
      "5969           35.0         18.0       1015.2       1011.9       1.0   \n",
      "...             ...          ...          ...          ...       ...   \n",
      "139083         48.0         38.0       1013.3       1010.1       1.0   \n",
      "139084         59.0         21.0       1013.4       1009.8       2.0   \n",
      "139085         56.0         31.0       1013.1       1009.9       5.0   \n",
      "139086         48.0         31.0       1013.3       1010.8       2.0   \n",
      "139087         52.0         25.0       1014.9       1011.7       6.0   \n",
      "139088         31.0         16.0       1015.7       1011.7       7.0   \n",
      "139089         25.0         18.0       1015.8       1012.0       7.0   \n",
      "139090         34.0         33.0       1014.9       1011.9       7.0   \n",
      "139091         42.0         37.0       1015.5       1011.4       7.0   \n",
      "139092         59.0         40.0       1013.9       1010.4       6.0   \n",
      "139093         66.0         32.0       1014.5       1011.1       3.0   \n",
      "139094         45.0         26.0       1016.1       1012.6       1.0   \n",
      "139095         48.0         38.0       1016.2       1012.5       1.0   \n",
      "139096         43.0         28.0       1016.2       1012.7       2.0   \n",
      "139097         46.0         26.0       1016.5       1013.0       7.0   \n",
      "139098         29.0         24.0       1017.1       1013.5       7.0   \n",
      "139099         31.0         24.0       1017.3       1013.9       3.0   \n",
      "139100         41.0         21.0       1017.6       1014.1       1.0   \n",
      "139101         43.0         24.0       1016.7       1013.1       3.0   \n",
      "139102         41.0         43.0       1016.6       1012.9       1.0   \n",
      "139103         43.0         27.0       1015.8       1011.8       0.0   \n",
      "139104         52.0         29.0       1014.7       1010.7       0.0   \n",
      "139105         51.0         35.0       1014.5       1011.4       1.0   \n",
      "139106         70.0         33.0       1014.6       1010.2       1.0   \n",
      "139107         43.0         28.0       1014.6       1010.6       1.0   \n",
      "139108         63.0         32.0       1013.9       1010.5       0.0   \n",
      "139109         56.0         28.0       1014.6       1011.2       7.0   \n",
      "139110         46.0         23.0       1015.3       1011.8       0.0   \n",
      "139111         62.0         58.0       1014.9       1010.7       1.0   \n",
      "139112         73.0         32.0       1013.9       1009.7       6.0   \n",
      "\n",
      "        Cloud3pm  Temp9am  Temp3pm  RainToday  RainTomorrow  \n",
      "5939         5.0     26.6     33.4         No            No  \n",
      "5940         1.0     20.3     27.0         No            No  \n",
      "5942         6.0     28.7     34.9         No            No  \n",
      "5943         5.0     29.1     35.6         No            No  \n",
      "5944         6.0     33.6     37.6         No            No  \n",
      "5945         8.0     30.7     34.3         No            No  \n",
      "5946         1.0     25.0     31.5         No            No  \n",
      "5947         1.0     20.7     32.8         No            No  \n",
      "5948         5.0     23.4     33.3         No            No  \n",
      "5949         5.0     24.0     33.6         No            No  \n",
      "5950         1.0     29.8     36.4         No            No  \n",
      "5951         2.0     29.1     37.0         No            No  \n",
      "5952         3.0     31.5     38.1         No            No  \n",
      "5953         6.0     31.4     37.8         No            No  \n",
      "5954         0.0     25.0     32.2         No            No  \n",
      "5955         1.0     19.9     30.3         No            No  \n",
      "5956         2.0     21.6     32.2         No            No  \n",
      "5957         6.0     26.2     34.1         No           Yes  \n",
      "5958         7.0     27.0     37.0        Yes            No  \n",
      "5959         7.0     28.9     29.7         No            No  \n",
      "5960         7.0     24.4     27.3         No           Yes  \n",
      "5961         4.0     24.7     33.4        Yes           Yes  \n",
      "5962         6.0     28.1     33.2        Yes            No  \n",
      "5963         1.0     26.4     35.0         No            No  \n",
      "5964         1.0     28.7     38.7         No            No  \n",
      "5965         3.0     29.0     36.4         No            No  \n",
      "5966         2.0     29.6     37.0         No            No  \n",
      "5967         1.0     29.9     38.4         No            No  \n",
      "5968         1.0     29.9     37.5         No            No  \n",
      "5969         2.0     29.0     36.9         No            No  \n",
      "...          ...      ...      ...        ...           ...  \n",
      "139083       0.0     27.1     31.3         No            No  \n",
      "139084       2.0     26.9     32.7         No            No  \n",
      "139085       7.0     26.5     31.6         No            No  \n",
      "139086       7.0     27.5     32.3         No            No  \n",
      "139087       1.0     25.3     31.7         No            No  \n",
      "139088       8.0     23.1     31.2         No            No  \n",
      "139089       4.0     23.5     31.3         No            No  \n",
      "139090       3.0     24.4     31.2         No            No  \n",
      "139091       7.0     24.0     30.9         No            No  \n",
      "139092       7.0     25.8     30.8         No            No  \n",
      "139093       3.0     25.6     32.1         No            No  \n",
      "139094       1.0     24.2     31.0         No            No  \n",
      "139095       1.0     23.4     30.1         No            No  \n",
      "139096       4.0     23.3     28.8         No            No  \n",
      "139097       5.0     21.6     28.5         No            No  \n",
      "139098       7.0     20.9     28.5         No            No  \n",
      "139099       1.0     21.8     28.6         No            No  \n",
      "139100       2.0     20.9     28.5         No            No  \n",
      "139101       2.0     21.9     29.4         No            No  \n",
      "139102       0.0     21.8     28.7         No            No  \n",
      "139103       0.0     22.9     30.2         No            No  \n",
      "139104       1.0     21.8     30.5         No            No  \n",
      "139105       3.0     23.9     31.2         No            No  \n",
      "139106       1.0     24.2     32.7         No            No  \n",
      "139107       1.0     25.1     32.7         No            No  \n",
      "139108       1.0     24.5     32.3         No            No  \n",
      "139109       0.0     24.8     32.0         No            No  \n",
      "139110       0.0     24.8     32.1         No            No  \n",
      "139111       1.0     24.8     29.2         No            No  \n",
      "139112       5.0     25.4     31.0         No            No  \n",
      "\n",
      "[56420 rows x 22 columns]\n"
     ]
    }
   ],
   "source": [
    "print(df)"
   ]
  },
  {
   "cell_type": "code",
   "execution_count": 12,
   "metadata": {},
   "outputs": [],
   "source": [
    "df[\"Location\"]=df[\"Location\"].astype('category')\n",
    "df[\"Location\"]=df[\"Location\"].cat.codes\n",
    "\n",
    "df[\"WindGustDir\"]=df[\"WindGustDir\"].astype('category')\n",
    "df[\"WindGustDir\"]=df[\"WindGustDir\"].cat.codes\n",
    "\n",
    "df[\"WindDir9am\"]=df[\"WindDir9am\"].astype('category')\n",
    "df[\"WindDir9am\"]=df[\"WindDir9am\"].cat.codes\n",
    "\n",
    "df[\"WindDir3pm\"]=df[\"WindDir3pm\"].astype('category')\n",
    "df[\"WindDir3pm\"]=df[\"WindDir3pm\"].cat.codes\n",
    "\n",
    "df[\"RainToday\"]=df[\"RainToday\"].astype('category')\n",
    "df[\"RainToday\"]=df[\"RainToday\"].cat.codes\n",
    "\n",
    "df[\"RainTomorrow\"]=df[\"RainTomorrow\"].astype('category')\n",
    "df[\"RainTomorrow\"]=df[\"RainTomorrow\"].cat.codes"
   ]
  },
  {
   "cell_type": "code",
   "execution_count": 13,
   "metadata": {},
   "outputs": [],
   "source": [
    "df[\"MinTemp\"] = (df[\"MinTemp\"] - df[\"MinTemp\"].mean()) / (df[\"MinTemp\"].max() - df[\"MinTemp\"].min())\n",
    "df[\"MaxTemp\"] = (df[\"MaxTemp\"] - df[\"MaxTemp\"].mean()) / (df[\"MaxTemp\"].max() - df[\"MaxTemp\"].min())\n",
    "df[\"Rainfall\"] = (df[\"Rainfall\"] - df[\"Rainfall\"].mean()) / (df[\"Rainfall\"].max() - df[\"Rainfall\"].min())\n",
    "df[\"Evaporation\"] = (df[\"Evaporation\"] - df[\"Evaporation\"].mean()) / (df[\"Evaporation\"].max() - df[\"Evaporation\"].min())\n",
    "df[\"Sunshine\"] = (df[\"Sunshine\"] - df[\"Sunshine\"].mean()) / (df[\"Sunshine\"].max() - df[\"Sunshine\"].min())\n",
    "df[\"WindGustSpeed\"] = (df[\"WindGustSpeed\"] - df[\"WindGustSpeed\"].mean()) / (df[\"WindGustSpeed\"].max() - df[\"WindGustSpeed\"].min())\n",
    "df[\"WindSpeed9am\"] = (df[\"WindSpeed9am\"] - df[\"WindSpeed9am\"].mean()) / (df[\"WindSpeed9am\"].max() - df[\"WindSpeed9am\"].min())\n",
    "df[\"WindSpeed3pm\"] = (df[\"WindSpeed3pm\"] - df[\"WindSpeed3pm\"].mean()) / (df[\"WindSpeed3pm\"].max() - df[\"WindSpeed3pm\"].min())\n",
    "df[\"Humidity9am\"] = (df[\"Humidity9am\"] - df[\"Humidity9am\"].mean()) / (df[\"Humidity9am\"].max() - df[\"Humidity9am\"].min())\n",
    "df[\"Humidity3pm\"] = (df[\"Humidity3pm\"] - df[\"Humidity3pm\"].mean()) / (df[\"Humidity3pm\"].max() - df[\"Humidity3pm\"].min())\n",
    "df[\"Pressure9am\"] = (df[\"Pressure9am\"] - df[\"Pressure9am\"].mean()) / (df[\"Pressure9am\"].max() - df[\"Pressure9am\"].min())\n",
    "df[\"Pressure3pm\"] = (df[\"Pressure3pm\"] - df[\"Pressure3pm\"].mean()) / (df[\"Pressure3pm\"].max() - df[\"Pressure3pm\"].min())\n",
    "df[\"Cloud9am\"] = (df[\"Cloud9am\"] - df[\"Cloud9am\"].mean()) / (df[\"Cloud9am\"].max() - df[\"Cloud9am\"].min())\n",
    "df[\"Cloud3pm\"] = (df[\"Cloud3pm\"] - df[\"Cloud3pm\"].mean()) / (df[\"Cloud3pm\"].max() - df[\"Cloud3pm\"].min())\n",
    "df[\"Temp9am\"] = (df[\"Temp9am\"] - df[\"Temp9am\"].mean()) / (df[\"Temp9am\"].max() - df[\"Temp9am\"].min())\n",
    "df[\"Temp3pm\"] = (df[\"Temp3pm\"] - df[\"Temp3pm\"].mean()) / (df[\"Temp3pm\"].max() - df[\"Temp3pm\"].min())"
   ]
  },
  {
   "cell_type": "code",
   "execution_count": 14,
   "metadata": {},
   "outputs": [],
   "source": [
    "from sklearn.neural_network import MLPClassifier\n",
    "from sklearn.model_selection import train_test_split\n",
    "from sklearn.metrics import accuracy_score\n",
    "from sklearn.metrics import confusion_matrix"
   ]
  },
  {
   "cell_type": "code",
   "execution_count": 15,
   "metadata": {},
   "outputs": [],
   "source": [
    "y = df['RainTomorrow']\n",
    "x = df.drop(['RainTomorrow'], axis=1)"
   ]
  },
  {
   "cell_type": "code",
   "execution_count": 16,
   "metadata": {},
   "outputs": [],
   "source": [
    "x_train, x_test, y_train, y_test = train_test_split(x,y, test_size= 0.25, random_state=27)"
   ]
  },
  {
   "cell_type": "code",
   "execution_count": 17,
   "metadata": {},
   "outputs": [],
   "source": [
    "clf = MLPClassifier(hidden_layer_sizes=(100,100,100), max_iter=500, alpha=0.0001,\n",
    "                     solver='sgd', verbose=10,  random_state=21,tol=0.000000001)\n"
   ]
  },
  {
   "cell_type": "code",
   "execution_count": 18,
   "metadata": {},
   "outputs": [
    {
     "name": "stdout",
     "output_type": "stream",
     "text": [
      "Iteration 1, loss = 0.52047412\n",
      "Iteration 2, loss = 0.47292870\n",
      "Iteration 3, loss = 0.43181137\n",
      "Iteration 4, loss = 0.40632517\n",
      "Iteration 5, loss = 0.39284558\n",
      "Iteration 6, loss = 0.38449701\n",
      "Iteration 7, loss = 0.37860056\n",
      "Iteration 8, loss = 0.37331019\n",
      "Iteration 9, loss = 0.36878103\n",
      "Iteration 10, loss = 0.36502008\n",
      "Iteration 11, loss = 0.36334406\n",
      "Iteration 12, loss = 0.35937695\n",
      "Iteration 13, loss = 0.36065794\n",
      "Iteration 14, loss = 0.35642516\n",
      "Iteration 15, loss = 0.35615161\n",
      "Iteration 16, loss = 0.35306888\n",
      "Iteration 17, loss = 0.35284609\n",
      "Iteration 18, loss = 0.35084515\n",
      "Iteration 19, loss = 0.35175248\n",
      "Iteration 20, loss = 0.35088872\n",
      "Iteration 21, loss = 0.35066692\n",
      "Iteration 22, loss = 0.35078798\n",
      "Iteration 23, loss = 0.34854448\n",
      "Iteration 24, loss = 0.34808577\n",
      "Iteration 25, loss = 0.34773706\n",
      "Iteration 26, loss = 0.34830470\n",
      "Iteration 27, loss = 0.34868619\n",
      "Iteration 28, loss = 0.34731035\n",
      "Iteration 29, loss = 0.34730219\n",
      "Iteration 30, loss = 0.34786415\n",
      "Iteration 31, loss = 0.34554405\n",
      "Iteration 32, loss = 0.34589557\n",
      "Iteration 33, loss = 0.34576510\n",
      "Iteration 34, loss = 0.34666984\n",
      "Training loss did not improve more than tol=0.000000 for two consecutive epochs. Stopping.\n"
     ]
    }
   ],
   "source": [
    "clf.fit(x_train, y_train)\n",
    "y_pred = clf.predict(x_test)"
   ]
  },
  {
   "cell_type": "code",
   "execution_count": 19,
   "metadata": {},
   "outputs": [
    {
     "data": {
      "text/plain": [
       "0.8543778801843318"
      ]
     },
     "execution_count": 19,
     "metadata": {},
     "output_type": "execute_result"
    }
   ],
   "source": [
    "accuracy_score(y_test, y_pred)"
   ]
  },
  {
   "cell_type": "code",
   "execution_count": 20,
   "metadata": {},
   "outputs": [],
   "source": [
    "cm = confusion_matrix(y_test, y_pred)"
   ]
  },
  {
   "cell_type": "code",
   "execution_count": 21,
   "metadata": {},
   "outputs": [
    {
     "name": "stdout",
     "output_type": "stream",
     "text": [
      "[[10369   673]\n",
      " [ 1381  1682]]\n"
     ]
    }
   ],
   "source": [
    "print(cm)"
   ]
  },
  {
   "cell_type": "code",
   "execution_count": 22,
   "metadata": {},
   "outputs": [
    {
     "data": {
      "text/plain": [
       "array([[10369,   673],\n",
       "       [ 1381,  1682]], dtype=int64)"
      ]
     },
     "execution_count": 22,
     "metadata": {},
     "output_type": "execute_result"
    }
   ],
   "source": [
    "cm"
   ]
  },
  {
   "cell_type": "code",
   "execution_count": 23,
   "metadata": {},
   "outputs": [
    {
     "data": {
      "text/html": [
       "<div>\n",
       "<style scoped>\n",
       "    .dataframe tbody tr th:only-of-type {\n",
       "        vertical-align: middle;\n",
       "    }\n",
       "\n",
       "    .dataframe tbody tr th {\n",
       "        vertical-align: top;\n",
       "    }\n",
       "\n",
       "    .dataframe thead th {\n",
       "        text-align: right;\n",
       "    }\n",
       "</style>\n",
       "<table border=\"1\" class=\"dataframe\">\n",
       "  <thead>\n",
       "    <tr style=\"text-align: right;\">\n",
       "      <th>Predicted</th>\n",
       "      <th>0</th>\n",
       "      <th>1</th>\n",
       "      <th>All</th>\n",
       "    </tr>\n",
       "    <tr>\n",
       "      <th>Actual</th>\n",
       "      <th></th>\n",
       "      <th></th>\n",
       "      <th></th>\n",
       "    </tr>\n",
       "  </thead>\n",
       "  <tbody>\n",
       "    <tr>\n",
       "      <th>0</th>\n",
       "      <td>10369</td>\n",
       "      <td>673</td>\n",
       "      <td>11042</td>\n",
       "    </tr>\n",
       "    <tr>\n",
       "      <th>1</th>\n",
       "      <td>1381</td>\n",
       "      <td>1682</td>\n",
       "      <td>3063</td>\n",
       "    </tr>\n",
       "    <tr>\n",
       "      <th>All</th>\n",
       "      <td>11750</td>\n",
       "      <td>2355</td>\n",
       "      <td>14105</td>\n",
       "    </tr>\n",
       "  </tbody>\n",
       "</table>\n",
       "</div>"
      ],
      "text/plain": [
       "Predicted      0     1    All\n",
       "Actual                       \n",
       "0          10369   673  11042\n",
       "1           1381  1682   3063\n",
       "All        11750  2355  14105"
      ]
     },
     "execution_count": 23,
     "metadata": {},
     "output_type": "execute_result"
    }
   ],
   "source": [
    "pd.crosstab(y_test, y_pred, rownames=['Actual'], colnames=['Predicted'], margins=True)"
   ]
  },
  {
   "cell_type": "code",
   "execution_count": 25,
   "metadata": {},
   "outputs": [
    {
     "data": {
      "image/png": "[encoded data removed]",
      "text/plain": [
       "<Figure size 432x288 with 2 Axes>"
      ]
     },
     "metadata": {},
     "output_type": "display_data"
    }
   ],
   "source": [
    "sns.heatmap(cm, center=False)\n",
    "plt.show()"
   ]
  },
  {
   "cell_type": "code",
   "execution_count": 26,
   "metadata": {},
   "outputs": [],
   "source": [
    "from sklearn.metrics import precision_score\n",
    "from sklearn.metrics import recall_score\n",
    "from sklearn.metrics import f1_score\n",
    "from sklearn.metrics import classification_report"
   ]
  },
  {
   "cell_type": "code",
   "execution_count": 27,
   "metadata": {},
   "outputs": [
    {
     "name": "stdout",
     "output_type": "stream",
     "text": [
      "Precision Score is  0.7142250530785562\n"
     ]
    }
   ],
   "source": [
    "print(\"Precision Score is \", precision_score(y_test,y_pred))"
   ]
  },
  {
   "cell_type": "code",
   "execution_count": 28,
   "metadata": {},
   "outputs": [
    {
     "name": "stdout",
     "output_type": "stream",
     "text": [
      "Recall Score is  0.5491348351289586\n"
     ]
    }
   ],
   "source": [
    "print(\"Recall Score is \", recall_score(y_test,y_pred))"
   ]
  },
  {
   "cell_type": "code",
   "execution_count": 29,
   "metadata": {},
   "outputs": [
    {
     "name": "stdout",
     "output_type": "stream",
     "text": [
      "F1 Score: 0.6208933185677372\n"
     ]
    }
   ],
   "source": [
    "print(\"F1 Score: {}\".format(f1_score(y_test,y_pred)))"
   ]
  },
  {
   "cell_type": "code",
   "execution_count": 30,
   "metadata": {},
   "outputs": [
    {
     "name": "stdout",
     "output_type": "stream",
     "text": [
      "             precision    recall  f1-score   support\n",
      "\n",
      "          0       0.88      0.94      0.91     11042\n",
      "          1       0.71      0.55      0.62      3063\n",
      "\n",
      "avg / total       0.85      0.85      0.85     14105\n",
      "\n"
     ]
    }
   ],
   "source": [
    "print(classification_report(y_test,y_pred))"
   ]
  },
  {
   "cell_type": "code",
   "execution_count": null,
   "metadata": {},
   "outputs": [],
   "source": []
  }
 ],
 "metadata": {
  "kernelspec": {
   "display_name": "Python 3",
   "language": "python",
   "name": "python3"
  },
  "language_info": {
   "codemirror_mode": {
    "name": "ipython",
    "version": 3
   },
   "file_extension": ".py",
   "mimetype": "text/x-python",
   "name": "python",
   "nbconvert_exporter": "python",
   "pygments_lexer": "ipython3",
   "version": "3.6.5"
  }
 },
 "nbformat": 4,
 "nbformat_minor": 2
}
